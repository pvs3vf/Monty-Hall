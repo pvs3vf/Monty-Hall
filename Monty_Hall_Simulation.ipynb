{
 "cells": [
  {
   "cell_type": "markdown",
   "metadata": {},
   "source": [
    "# Monty Hall Simulation\n",
    "This is a simple demo to illustrate the very popular Monty Hall problem.\n",
    "The steps are illustrated below."
   ]
  },
  {
   "cell_type": "markdown",
   "metadata": {},
   "source": [
    "### Step 1\n",
    "Create an list of lists with A,B,C repeated X times."
   ]
  },
  {
   "cell_type": "code",
   "execution_count": 5,
   "metadata": {},
   "outputs": [
    {
     "name": "stdout",
     "output_type": "stream",
     "text": [
      "[('A', 'B', 'C'), ('A', 'B', 'C'), ('A', 'B', 'C'), ('A', 'B', 'C'), ('A', 'B', 'C')]\n"
     ]
    }
   ],
   "source": [
    "all=[('A','B','C')]*1000\n",
    "print(all[0:5])"
   ]
  },
  {
   "cell_type": "markdown",
   "metadata": {},
   "source": [
    "### Step 2 \n",
    "From this list, randomly pick one door which contains the car and create a list."
   ]
  },
  {
   "cell_type": "code",
   "execution_count": 6,
   "metadata": {},
   "outputs": [
    {
     "name": "stdout",
     "output_type": "stream",
     "text": [
      "['B', 'C', 'A', 'C', 'C']\n"
     ]
    }
   ],
   "source": [
    "import random\n",
    "car_door = [random.choice(each_trial) for each_trial in all] \n",
    "print(car_door[0:5])"
   ]
  },
  {
   "cell_type": "markdown",
   "metadata": {},
   "source": [
    "### Step 3\n",
    "Using set operations generate a list of lists of doors which contain goats. These are the doors which do not contain the car. "
   ]
  },
  {
   "cell_type": "code",
   "execution_count": 7,
   "metadata": {},
   "outputs": [
    {
     "name": "stdout",
     "output_type": "stream",
     "text": [
      "[{'C', 'A'}, {'B', 'A'}, {'B', 'C'}, {'B', 'A'}, {'B', 'A'}]\n"
     ]
    }
   ],
   "source": [
    "goat_doors=list([set(each_all)-set(each_car_door) for each_all in all for each_car_door in car_door])\n",
    "print(goat_doors[0:5])"
   ]
  },
  {
   "cell_type": "markdown",
   "metadata": {},
   "source": [
    "### Step 4\n",
    "User selection will be a list of randomly selected doors from list created in step 1."
   ]
  },
  {
   "cell_type": "code",
   "execution_count": 8,
   "metadata": {},
   "outputs": [
    {
     "name": "stdout",
     "output_type": "stream",
     "text": [
      "['B', 'A', 'A', 'C', 'C']\n"
     ]
    }
   ],
   "source": [
    "user_pick = [random.choice(each_trial) for each_trial in all] \n",
    "print(user_pick[0:5])"
   ]
  },
  {
   "cell_type": "markdown",
   "metadata": {},
   "source": [
    "### Step 5\n",
    "Using set operations generate a list of lists of doors which were not selected by the User."
   ]
  },
  {
   "cell_type": "code",
   "execution_count": 9,
   "metadata": {},
   "outputs": [
    {
     "name": "stdout",
     "output_type": "stream",
     "text": [
      "[{'C', 'A'}, {'B', 'C'}, {'B', 'C'}, {'B', 'A'}, {'B', 'A'}]\n"
     ]
    }
   ],
   "source": [
    "not_user_pick=list([set(each_all)-set(each_user_pick) for each_all in all for each_user_pick in user_pick])\n",
    "print(not_user_pick[0:5])"
   ]
  },
  {
   "cell_type": "markdown",
   "metadata": {},
   "source": [
    "### Step 6\n",
    "Using set operations (intersection) select (one) door which is common in list generated in step 5 and 3. This is the door opened by the presenter."
   ]
  },
  {
   "cell_type": "code",
   "execution_count": 10,
   "metadata": {},
   "outputs": [
    {
     "name": "stdout",
     "output_type": "stream",
     "text": [
      "[{'C'}, {'B'}, {'B'}, {'B'}, {'B'}]\n"
     ]
    }
   ],
   "source": [
    "presenter_open=[]\n",
    "for i in range(1000):\n",
    "    x=not_user_pick[i]&goat_doors[i]\n",
    "    if len(x)>1:\n",
    "        x=random.choice(list(x))\n",
    "    presenter_open.append(set(x))\n",
    "print(presenter_open[0:5])"
   ]
  },
  {
   "cell_type": "markdown",
   "metadata": {},
   "source": [
    "### Step 7 (a)\n",
    "Perform switch operation by performing un-intersect of step 5 and 6. \n",
    "Compare this list to list created in step 2 and get match %. This is the winning percentage"
   ]
  },
  {
   "cell_type": "code",
   "execution_count": 39,
   "metadata": {},
   "outputs": [
    {
     "data": {
      "text/plain": [
       "668"
      ]
     },
     "execution_count": 39,
     "metadata": {},
     "output_type": "execute_result"
    }
   ],
   "source": [
    "switch_door=[]\n",
    "for i in range(1000):\n",
    "    x=not_user_pick[i]^presenter_open[i]\n",
    "    switch_door.append(x)\n",
    "#switch_door\n",
    "win_switch=0\n",
    "for i in range(1000):\n",
    "    if set(switch_door[i])==set(car_door[i]):\n",
    "        win_switch=win_switch+1\n",
    "win_switch"
   ]
  },
  {
   "cell_type": "markdown",
   "metadata": {},
   "source": [
    "### Step 7 (b)\n",
    "Perform no operation and compare original user selection with list created in step 2 and get match %. This is the winning percentage."
   ]
  },
  {
   "cell_type": "code",
   "execution_count": 40,
   "metadata": {},
   "outputs": [
    {
     "data": {
      "text/plain": [
       "332"
      ]
     },
     "execution_count": 40,
     "metadata": {},
     "output_type": "execute_result"
    }
   ],
   "source": [
    "win_original=0\n",
    "for i in range(1000):\n",
    "    if set(user_pick[i])==set(car_door[i]):\n",
    "        win_original=win_original+1\n",
    "win_original"
   ]
  },
  {
   "cell_type": "markdown",
   "metadata": {},
   "source": [
    "### Step 8 \n",
    "Compare the winning % in both the cases. Make observation on switch vs no switch."
   ]
  },
  {
   "cell_type": "code",
   "execution_count": 41,
   "metadata": {},
   "outputs": [
    {
     "name": "stdout",
     "output_type": "stream",
     "text": [
      "The winning percentage if a contestant switches door is:  66.8\n",
      "The winning percentage if a contestant does not switch door is:  33.2\n"
     ]
    }
   ],
   "source": [
    "print(\"The winning percentage if a contestant switches door is: \", 100*win_switch/1000)\n",
    "print(\"The winning percentage if a contestant does not switch door is: \", 100*win_original/1000)"
   ]
  }
 ],
 "metadata": {
  "kernelspec": {
   "display_name": "Python 3",
   "language": "python",
   "name": "python3"
  },
  "language_info": {
   "codemirror_mode": {
    "name": "ipython",
    "version": 3
   },
   "file_extension": ".py",
   "mimetype": "text/x-python",
   "name": "python",
   "nbconvert_exporter": "python",
   "pygments_lexer": "ipython3",
   "version": "3.6.3"
  }
 },
 "nbformat": 4,
 "nbformat_minor": 2
}
